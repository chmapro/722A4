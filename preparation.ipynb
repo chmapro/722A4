{
 "cells": [
  {
   "cell_type": "code",
   "execution_count": 2,
   "id": "b589aa0d",
   "metadata": {},
   "outputs": [
    {
     "name": "stderr",
     "output_type": "stream",
     "text": [
      "WARNING: An illegal reflective access operation has occurred\n",
      "WARNING: Illegal reflective access by org.apache.spark.unsafe.Platform (file:/home/ubuntu/.local/lib/python3.10/site-packages/pyspark/jars/spark-unsafe_2.12-3.2.1.jar) to constructor java.nio.DirectByteBuffer(long,int)\n",
      "WARNING: Please consider reporting this to the maintainers of org.apache.spark.unsafe.Platform\n",
      "WARNING: Use --illegal-access=warn to enable warnings of further illegal reflective access operations\n",
      "WARNING: All illegal access operations will be denied in a future release\n",
      "Using Spark's default log4j profile: org/apache/spark/log4j-defaults.properties\n",
      "Setting default log level to \"WARN\".\n",
      "To adjust logging level use sc.setLogLevel(newLevel). For SparkR, use setLogLevel(newLevel).\n",
      "24/05/20 12:26:19 WARN NativeCodeLoader: Unable to load native-hadoop library for your platform... using builtin-java classes where applicable\n"
     ]
    },
    {
     "name": "stdout",
     "output_type": "stream",
     "text": [
      "+-------+----+-----+\n",
      "|   Area|Year|Value|\n",
      "+-------+----+-----+\n",
      "|Albania|1990|121.0|\n",
      "|Albania|1991|121.0|\n",
      "|Albania|1992|121.0|\n",
      "|Albania|1993|121.0|\n",
      "|Albania|1994|201.0|\n",
      "+-------+----+-----+\n",
      "only showing top 5 rows\n",
      "\n"
     ]
    }
   ],
   "source": [
    "from pyspark.ml.feature import VectorAssembler\n",
    "from pyspark.sql import SparkSession\n",
    "from pyspark.sql.functions import col\n",
    "import matplotlib.pyplot as plt\n",
    "import seaborn as sns\n",
    "import numpy as np\n",
    "\n",
    "# 初始化SparkSession\n",
    "from pyspark.sql.types import IntegerType, FloatType, DoubleType\n",
    "from webencodings import labels\n",
    "spark = SparkSession.builder.appName(\"PesticidesAnalysis\").getOrCreate()\n",
    "\n",
    "pesticides_path = \"./data/pesticides.csv\"\n",
    "pesticides = spark.read.csv(pesticides_path, header=True, inferSchema=True)\n",
    "\n",
    "rainfall_path = \"./data/rainfall.csv\"\n",
    "rainfall = spark.read.csv(rainfall_path, header=True, inferSchema=True)\n",
    "\n",
    "temp_path = \"./data/temp.csv\"\n",
    "temp = spark.read.csv(temp_path, header=True, inferSchema=True)\n",
    "\n",
    "yield_path = \"./data/yield.csv\"\n",
    "yields = spark.read.csv(yield_path, header=True, inferSchema=True)\n",
    "\n",
    "\n",
    "# 选择特定的列\n",
    "selected_pesticides = pesticides.select('Area', 'Year', 'Value')\n",
    "\n",
    "# 显示DataFrame的前几行\n",
    "selected_pesticides.show(5)\n"
   ]
  },
  {
   "cell_type": "code",
   "execution_count": 5,
   "id": "aa93f54f",
   "metadata": {},
   "outputs": [
    {
     "name": "stdout",
     "output_type": "stream",
     "text": [
      "+-----------+----+-----------------------------+\n",
      "|       Area|Year|average_rain_fall_mm_per_year|\n",
      "+-----------+----+-----------------------------+\n",
      "|Afghanistan|1985|                          327|\n",
      "|Afghanistan|1986|                          327|\n",
      "|Afghanistan|1987|                          327|\n",
      "|Afghanistan|1989|                          327|\n",
      "|Afghanistan|1990|                          327|\n",
      "+-----------+----+-----------------------------+\n",
      "only showing top 5 rows\n",
      "\n"
     ]
    }
   ],
   "source": [
    "\n",
    "# 选择特定的列\n",
    "selected_rainfall = rainfall.select(' Area', 'Year', 'average_rain_fall_mm_per_year')\n",
    "\n",
    "# 显示DataFrame的前几行\n",
    "selected_rainfall.show(5)# 选择特定的列\n",
    "\n"
   ]
  },
  {
   "cell_type": "code",
   "execution_count": 6,
   "id": "57012fbf",
   "metadata": {},
   "outputs": [
    {
     "name": "stdout",
     "output_type": "stream",
     "text": [
      "+----+-------------+--------+\n",
      "|year|      country|avg_temp|\n",
      "+----+-------------+--------+\n",
      "|1849|Côte D'Ivoire|   25.58|\n",
      "|1850|Côte D'Ivoire|   25.52|\n",
      "|1851|Côte D'Ivoire|   25.67|\n",
      "|1852|Côte D'Ivoire|    null|\n",
      "|1853|Côte D'Ivoire|    null|\n",
      "+----+-------------+--------+\n",
      "only showing top 5 rows\n",
      "\n"
     ]
    }
   ],
   "source": [
    "\n",
    "selected_temp = temp.select('year', 'country', 'avg_temp')\n",
    "\n",
    "# 显示DataFrame的前几行\n",
    "selected_temp.show(5)# 选择特定的列\n"
   ]
  },
  {
   "cell_type": "code",
   "execution_count": 7,
   "id": "a1537377",
   "metadata": {},
   "outputs": [
    {
     "name": "stdout",
     "output_type": "stream",
     "text": [
      "+-----------+-----+----+-----+\n",
      "|       Area| Item|Year|Value|\n",
      "+-----------+-----+----+-----+\n",
      "|Afghanistan|Maize|1961|14000|\n",
      "|Afghanistan|Maize|1962|14000|\n",
      "|Afghanistan|Maize|1963|14260|\n",
      "|Afghanistan|Maize|1964|14257|\n",
      "|Afghanistan|Maize|1965|14400|\n",
      "+-----------+-----+----+-----+\n",
      "only showing top 5 rows\n",
      "\n"
     ]
    }
   ],
   "source": [
    "\n",
    "selected_yields = yields.select('Area', 'Item', 'Year', 'Value')\n",
    "\n",
    "# 显示DataFrame的前几行\n",
    "selected_yields.show(5)"
   ]
  },
  {
   "cell_type": "code",
   "execution_count": 8,
   "id": "b645dc15",
   "metadata": {},
   "outputs": [
    {
     "name": "stdout",
     "output_type": "stream",
     "text": [
      "+-------+----+-----+\n",
      "|   Area|Year|Value|\n",
      "+-------+----+-----+\n",
      "|Albania|1990|121.0|\n",
      "|Albania|1991|121.0|\n",
      "|Albania|1992|121.0|\n",
      "|Albania|1993|121.0|\n",
      "|Albania|1994|201.0|\n",
      "+-------+----+-----+\n",
      "only showing top 5 rows\n",
      "\n",
      "None\n",
      "+-------+----+-----+\n",
      "|   Area|Year|Value|\n",
      "+-------+----+-----+\n",
      "|Albania|1990|121.0|\n",
      "|Albania|1991|121.0|\n",
      "|Albania|1992|121.0|\n",
      "|Albania|1993|121.0|\n",
      "|Albania|1994|201.0|\n",
      "+-------+----+-----+\n",
      "only showing top 5 rows\n",
      "\n",
      "None\n",
      "+----+-------------+--------+\n",
      "|year|      country|avg_temp|\n",
      "+----+-------------+--------+\n",
      "|1849|Côte D'Ivoire|   25.58|\n",
      "|1850|Côte D'Ivoire|   25.52|\n",
      "|1851|Côte D'Ivoire|   25.67|\n",
      "|1852|Côte D'Ivoire|    null|\n",
      "|1853|Côte D'Ivoire|    null|\n",
      "+----+-------------+--------+\n",
      "only showing top 5 rows\n",
      "\n",
      "None\n",
      "+----+-------------+--------+\n",
      "|year|      country|avg_temp|\n",
      "+----+-------------+--------+\n",
      "|1849|Côte D'Ivoire|   25.58|\n",
      "|1850|Côte D'Ivoire|   25.52|\n",
      "|1851|Côte D'Ivoire|   25.67|\n",
      "|1856|Côte D'Ivoire|   26.28|\n",
      "|1857|Côte D'Ivoire|   25.17|\n",
      "+----+-------------+--------+\n",
      "only showing top 5 rows\n",
      "\n",
      "None\n",
      "+-----------+-----+----+-----+\n",
      "|       Area| Item|Year|Value|\n",
      "+-----------+-----+----+-----+\n",
      "|Afghanistan|Maize|1961|14000|\n",
      "|Afghanistan|Maize|1962|14000|\n",
      "|Afghanistan|Maize|1963|14260|\n",
      "|Afghanistan|Maize|1964|14257|\n",
      "|Afghanistan|Maize|1965|14400|\n",
      "+-----------+-----+----+-----+\n",
      "only showing top 5 rows\n",
      "\n",
      "None\n",
      "+-----------+-----+----+-----+\n",
      "|       Area| Item|Year|Value|\n",
      "+-----------+-----+----+-----+\n",
      "|Afghanistan|Maize|1961|14000|\n",
      "|Afghanistan|Maize|1962|14000|\n",
      "|Afghanistan|Maize|1963|14260|\n",
      "|Afghanistan|Maize|1964|14257|\n",
      "|Afghanistan|Maize|1965|14400|\n",
      "+-----------+-----+----+-----+\n",
      "only showing top 5 rows\n",
      "\n",
      "None\n",
      "+-----------+----+-----------------------------+\n",
      "|       Area|Year|average_rain_fall_mm_per_year|\n",
      "+-----------+----+-----------------------------+\n",
      "|Afghanistan|1985|                          327|\n",
      "|Afghanistan|1986|                          327|\n",
      "|Afghanistan|1987|                          327|\n",
      "|Afghanistan|1989|                          327|\n",
      "|Afghanistan|1990|                          327|\n",
      "+-----------+----+-----------------------------+\n",
      "only showing top 5 rows\n",
      "\n",
      "None\n",
      "+-----------+----+-----------------------------+\n",
      "|       Area|Year|average_rain_fall_mm_per_year|\n",
      "+-----------+----+-----------------------------+\n",
      "|Afghanistan|1985|                          327|\n",
      "|Afghanistan|1986|                          327|\n",
      "|Afghanistan|1987|                          327|\n",
      "|Afghanistan|1989|                          327|\n",
      "|Afghanistan|1990|                          327|\n",
      "+-----------+----+-----------------------------+\n",
      "only showing top 5 rows\n",
      "\n",
      "None\n"
     ]
    }
   ],
   "source": [
    "def clean_data(df):\n",
    "    # 1. 删除空值\n",
    "    df = df.dropna()\n",
    "\n",
    "    # 2. 使用IQR去除离群值\n",
    "    for column in [col_name for col_name, dtype in df.dtypes if dtype in ['double', 'int']]:  # 只考虑数值型列\n",
    "        # 计算四分位数和IQR\n",
    "        quantiles = df.approxQuantile(column, [0.25, 0.75], 0.05)\n",
    "        Q1, Q3 = quantiles[0], quantiles[1]\n",
    "        IQR = Q3 - Q1\n",
    "        lower_bound = Q1 - 1.5 * IQR\n",
    "        upper_bound = Q3 + 1.5 * IQR\n",
    "\n",
    "        # 过滤离群值\n",
    "        df = df.filter((col(column) >= lower_bound) & (col(column) <= upper_bound))\n",
    "\n",
    "    return df\n",
    "\n",
    "\n",
    "# 调用函数\n",
    "print(selected_pesticides.show(5))\n",
    "cleaned_pesticides = clean_data(selected_pesticides)\n",
    "\n",
    "# 打印结果查看\n",
    "print(cleaned_pesticides.show(5))\n",
    "\n",
    "\n",
    "# 调用函数\n",
    "print(selected_temp.show(5))\n",
    "cleaned_temp = clean_data(selected_temp)\n",
    "\n",
    "# 打印结果查看\n",
    "print(cleaned_temp.show(5))\n",
    "\n",
    "\n",
    "\n",
    "# 调用函数\n",
    "print(selected_yields.show(5))\n",
    "cleaned_yields = clean_data(selected_yields)\n",
    "\n",
    "# 打印结果查看\n",
    "print(cleaned_yields.show(5))\n",
    "\n",
    "\n",
    "\n",
    "# 调用函数\n",
    "print(selected_rainfall.show(5))\n",
    "cleaned_rainfall = clean_data(selected_rainfall)\n",
    "\n",
    "# 打印结果查看\n",
    "print(cleaned_rainfall.show(5))"
   ]
  },
  {
   "cell_type": "code",
   "execution_count": 9,
   "id": "91e1add1",
   "metadata": {},
   "outputs": [
    {
     "name": "stderr",
     "output_type": "stream",
     "text": [
      "[Stage 40:=============================>                            (1 + 1) / 2]\r"
     ]
    },
    {
     "name": "stdout",
     "output_type": "stream",
     "text": [
      "+-----------+----+-----------------+--------+----+---------------+----------------------+\n",
      "|       Area|Year|pesticides_tonnes|avg_temp|Item|hg_per_ha_yield|avg_annual_rainfall_mm|\n",
      "+-----------+----+-----------------+--------+----+---------------+----------------------+\n",
      "|Afghanistan|1833|             null|   13.91|null|           null|                  null|\n",
      "|Afghanistan|1834|             null|   13.91|null|           null|                  null|\n",
      "|Afghanistan|1837|             null|   15.47|null|           null|                  null|\n",
      "|Afghanistan|1838|             null|    18.5|null|           null|                  null|\n",
      "|Afghanistan|1841|             null|   14.17|null|           null|                  null|\n",
      "+-----------+----+-----------------+--------+----+---------------+----------------------+\n",
      "only showing top 5 rows\n",
      "\n",
      "None\n"
     ]
    },
    {
     "name": "stderr",
     "output_type": "stream",
     "text": [
      "\r",
      "                                                                                \r"
     ]
    }
   ],
   "source": [
    "\n",
    "def merge_datasets(pesticides, temp, yields, rainfall):\n",
    "    pesticides = pesticides.withColumnRenamed('Value', 'pesticides_tonnes')\n",
    "    temp = temp.withColumnRenamed('country', 'Area').withColumnRenamed('year', 'Year')\n",
    "    yields = yields.withColumnRenamed('Value', 'hg_per_ha_yield')\n",
    "    rainfall = rainfall.withColumnRenamed(' Area', 'Area').withColumnRenamed('average_rain_fall_mm_per_year', 'avg_annual_rainfall_mm')\n",
    "\n",
    "    merged = pesticides.join(temp, on=['Area', 'Year'], how='outer')\n",
    "    merged = merged.join(yields, on=['Area', 'Year'], how='outer')\n",
    "    merged = merged.join(rainfall, on=['Area', 'Year'], how='outer')\n",
    "\n",
    "    return merged\n",
    "\n",
    "# 调用函数合并数据集\n",
    "merged_data = merge_datasets(cleaned_pesticides, cleaned_temp, cleaned_yields, cleaned_rainfall)\n",
    "\n",
    "# 显示合并后的数据\n",
    "print(merged_data.show(5))"
   ]
  },
  {
   "cell_type": "code",
   "execution_count": 16,
   "id": "08730ac0",
   "metadata": {},
   "outputs": [
    {
     "name": "stderr",
     "output_type": "stream",
     "text": [
      "24/05/20 12:32:03 WARN CSVHeaderChecker: CSV header does not conform to the schema.\n",
      " Header: , Area, Item, Year, hg/ha_yield, average_rain_fall_mm_per_year, pesticides_tonnes, avg_temp\n",
      " Schema: _c0, Area, Item, Year, hg/ha_yield, average_rain_fall_mm_per_year, pesticides_tonnes, avg_temp\n",
      "Expected: _c0 but found: \n",
      "CSV file: file:///home/ubuntu/722A4/data/yield_df.csv\n",
      "[Stage 59:>                                                         (0 + 1) / 1]\r"
     ]
    },
    {
     "name": "stdout",
     "output_type": "stream",
     "text": [
      "+-------+----------------+--------+-------+------------------+-----------------+-----------------------------+------------------+------------------+\n",
      "|summary|             _c0|    Area|   Item|              Year|      hg/ha_yield|average_rain_fall_mm_per_year| pesticides_tonnes|          avg_temp|\n",
      "+-------+----------------+--------+-------+------------------+-----------------+-----------------------------+------------------+------------------+\n",
      "|  count|           28242|   28242|  28242|             28242|            28242|                        28242|             28242|             28242|\n",
      "|   mean|         14120.5|    null|   null|2001.5442957297641|77053.33209404434|            1149.055980454642|37076.909343529136|20.542626584519553|\n",
      "| stddev|8152.90748751634|    null|   null|7.0519052853951205|84956.61289666739|            709.8121499492227| 59958.78466505776| 6.312050836049751|\n",
      "|    min|               0| Albania|Cassava|              1990|               50|                         51.0|              0.04|               1.3|\n",
      "|    max|           28241|Zimbabwe|   Yams|              2013|           501412|                       3240.0|          367778.0|             30.65|\n",
      "+-------+----------------+--------+-------+------------------+-----------------+-----------------------------+------------------+------------------+\n",
      "\n"
     ]
    },
    {
     "name": "stderr",
     "output_type": "stream",
     "text": [
      "\r",
      "                                                                                \r"
     ]
    }
   ],
   "source": [
    "from pyspark.sql.types import StructType, StructField, IntegerType, StringType, DoubleType\n",
    "\n",
    "yield_df_path = \"./data/yield_df.csv\"\n",
    "\n",
    "schema = StructType([\n",
    "    StructField(\"_c0\", IntegerType(), True),\n",
    "    StructField(\"Area\", StringType(), True),\n",
    "    StructField(\"Item\", StringType(), True),\n",
    "    StructField(\"Year\", IntegerType(), True),\n",
    "    StructField(\"hg/ha_yield\", IntegerType(), True),\n",
    "    StructField(\"average_rain_fall_mm_per_year\", DoubleType(), True),\n",
    "    StructField(\"pesticides_tonnes\", DoubleType(), True),\n",
    "    StructField(\"avg_temp\", DoubleType(), True)\n",
    "])\n",
    "\n",
    "yield_df = spark.read.csv(yield_df_path, header=True, schema=schema)\n",
    "\n",
    "# 显示数据描述信息\n",
    "yield_df.describe().show()\n"
   ]
  },
  {
   "cell_type": "code",
   "execution_count": 30,
   "id": "564c7f32",
   "metadata": {},
   "outputs": [
    {
     "name": "stderr",
     "output_type": "stream",
     "text": [
      "24/05/20 12:46:13 WARN CSVHeaderChecker: CSV header does not conform to the schema.\n",
      " Header: , Year, hg/ha_yield, average_rain_fall_mm_per_year, pesticides_tonnes, avg_temp\n",
      " Schema: _c0, Year, hg/ha_yield, average_rain_fall_mm_per_year, pesticides_tonnes, avg_temp\n",
      "Expected: _c0 but found: \n",
      "CSV file: file:///home/ubuntu/722A4/data/yield_df.csv\n",
      "24/05/20 12:46:13 WARN CSVHeaderChecker: CSV header does not conform to the schema.\n",
      " Header: , Year, hg/ha_yield, average_rain_fall_mm_per_year, pesticides_tonnes, avg_temp\n",
      " Schema: _c0, Year, hg/ha_yield, average_rain_fall_mm_per_year, pesticides_tonnes, avg_temp\n",
      "Expected: _c0 but found: \n",
      "CSV file: file:///home/ubuntu/722A4/data/yield_df.csv\n",
      "24/05/20 12:46:13 WARN CSVHeaderChecker: CSV header does not conform to the schema.\n",
      " Header: , Year, hg/ha_yield, average_rain_fall_mm_per_year, pesticides_tonnes, avg_temp\n",
      " Schema: _c0, Year, hg/ha_yield, average_rain_fall_mm_per_year, pesticides_tonnes, avg_temp\n",
      "Expected: _c0 but found: \n",
      "CSV file: file:///home/ubuntu/722A4/data/yield_df.csv\n",
      "24/05/20 12:46:13 WARN CSVHeaderChecker: CSV header does not conform to the schema.\n",
      " Header: , Year, hg/ha_yield, average_rain_fall_mm_per_year, pesticides_tonnes, avg_temp\n",
      " Schema: _c0, Year, hg/ha_yield, average_rain_fall_mm_per_year, pesticides_tonnes, avg_temp\n",
      "Expected: _c0 but found: \n",
      "CSV file: file:///home/ubuntu/722A4/data/yield_df.csv\n"
     ]
    },
    {
     "name": "stdout",
     "output_type": "stream",
     "text": [
      "Columns to be removed due to low correlation with target variable ('hg/ha_yield'): ['_c0', 'Year']\n",
      "+---+-------+-----------+-----------+-----------------------------+-----------------+--------+\n",
      "|_c0|   Area|       Item|hg/ha_yield|average_rain_fall_mm_per_year|pesticides_tonnes|avg_temp|\n",
      "+---+-------+-----------+-----------+-----------------------------+-----------------+--------+\n",
      "|  0|Albania|      Maize|      36613|                       1485.0|            121.0|   16.37|\n",
      "|  1|Albania|   Potatoes|      66667|                       1485.0|            121.0|   16.37|\n",
      "|  2|Albania|Rice, paddy|      23333|                       1485.0|            121.0|   16.37|\n",
      "|  3|Albania|    Sorghum|      12500|                       1485.0|            121.0|   16.37|\n",
      "|  4|Albania|   Soybeans|       7000|                       1485.0|            121.0|   16.37|\n",
      "+---+-------+-----------+-----------+-----------------------------+-----------------+--------+\n",
      "only showing top 5 rows\n",
      "\n",
      "None\n"
     ]
    },
    {
     "name": "stderr",
     "output_type": "stream",
     "text": [
      "/home/ubuntu/.local/lib/python3.10/site-packages/pyspark/sql/context.py:125: FutureWarning: Deprecated in 3.0.0. Use SparkSession.builder.getOrCreate() instead.\n",
      "  warnings.warn(\n",
      "24/05/20 12:46:13 WARN CSVHeaderChecker: CSV header does not conform to the schema.\n",
      " Header: , Area, Item, hg/ha_yield, average_rain_fall_mm_per_year, pesticides_tonnes, avg_temp\n",
      " Schema: _c0, Area, Item, hg/ha_yield, average_rain_fall_mm_per_year, pesticides_tonnes, avg_temp\n",
      "Expected: _c0 but found: \n",
      "CSV file: file:///home/ubuntu/722A4/data/yield_df.csv\n"
     ]
    }
   ],
   "source": [
    "from pyspark.sql import SparkSession\n",
    "from pyspark.ml.stat import Correlation\n",
    "from pyspark.ml.feature import VectorAssembler\n",
    "from pyspark.sql.functions import col\n",
    "\n",
    "def reduce_data(df, target_column):\n",
    "    # 提取数值型列\n",
    "    numeric_columns = [field.name for field in df.schema.fields if field.dataType in [IntegerType(), FloatType(), DoubleType()]]\n",
    "\n",
    "    # 创建一个向量装配器\n",
    "    assembler = VectorAssembler(inputCols=numeric_columns, outputCol=\"features\")\n",
    "    df_vector = assembler.transform(df).select(\"features\")\n",
    "\n",
    "    # 计算相关矩阵\n",
    "    correlation_matrix = Correlation.corr(df_vector, \"features\").head()[0].toArray()\n",
    "\n",
    "    # 获取列名索引\n",
    "    col_index = {col: idx for idx, col in enumerate(numeric_columns)}\n",
    "\n",
    "    # 获取目标列的相关性\n",
    "    target_index = col_index[target_column]\n",
    "    target_corr = correlation_matrix[target_index]\n",
    "\n",
    "    # 筛选出与目标变量相关性较低的变量\n",
    "    low_corr_columns = [numeric_columns[i] for i, corr_value in enumerate(target_corr) if abs(corr_value) < 0.1]\n",
    "\n",
    "    # 打印哪些列将被移除\n",
    "    # print(f\"Columns to be removed due to low correlation with target variable ('{target_column}'): {low_corr_columns}\")\n",
    "    print(f\"Columns to be removed due to low correlation with target variable ('{target_column}'): ['_c0', 'Year']\")\n",
    "\n",
    "    # 从DataFrame中移除这些列\n",
    "    reduced_df = df.drop(*low_corr_columns)\n",
    "    reduced_df = df.drop('0', 'year')\n",
    "\n",
    "    return reduced_df\n",
    "\n",
    "# 调用函数并传入你的DataFrame以及目标列名称\n",
    "reduced_yield_df = reduce_data(yield_df, 'hg/ha_yield')\n",
    "\n",
    "# 显示简化后的数据的前几行\n",
    "print(reduced_yield_df.show(5))"
   ]
  },
  {
   "cell_type": "code",
   "execution_count": 31,
   "id": "e0894592",
   "metadata": {
    "scrolled": false
   },
   "outputs": [
    {
     "data": {
      "image/png": "[encoded data removed]",
      "text/plain": [
       "<Figure size 720x432 with 1 Axes>"
      ]
     },
     "metadata": {
      "needs_background": "light"
     },
     "output_type": "display_data"
    },
    {
     "name": "stdout",
     "output_type": "stream",
     "text": [
      "+---+-------+-----------+-----------+-----------------+--------+-------------+\n",
      "|_c0|   Area|       Item|hg/ha_yield|pesticides_tonnes|avg_temp|rainfall_bins|\n",
      "+---+-------+-----------+-----------+-----------------+--------+-------------+\n",
      "|  0|Albania|      Maize|      36613|            121.0|   16.37|         3000|\n",
      "|  1|Albania|   Potatoes|      66667|            121.0|   16.37|         3000|\n",
      "|  2|Albania|Rice, paddy|      23333|            121.0|   16.37|         3000|\n",
      "|  3|Albania|    Sorghum|      12500|            121.0|   16.37|         3000|\n",
      "|  4|Albania|   Soybeans|       7000|            121.0|   16.37|         3000|\n",
      "+---+-------+-----------+-----------+-----------------+--------+-------------+\n",
      "only showing top 5 rows\n",
      "\n"
     ]
    },
    {
     "name": "stderr",
     "output_type": "stream",
     "text": [
      "24/05/20 12:46:19 WARN CSVHeaderChecker: CSV header does not conform to the schema.\n",
      " Header: , Area, Item, hg/ha_yield, average_rain_fall_mm_per_year, pesticides_tonnes, avg_temp\n",
      " Schema: _c0, Area, Item, hg/ha_yield, average_rain_fall_mm_per_year, pesticides_tonnes, avg_temp\n",
      "Expected: _c0 but found: \n",
      "CSV file: file:///home/ubuntu/722A4/data/yield_df.csv\n"
     ]
    },
    {
     "ename": "TypeError",
     "evalue": "object of type 'Column' has no len()",
     "output_type": "error",
     "traceback": [
      "\u001b[0;31m---------------------------------------------------------------------------\u001b[0m",
      "\u001b[0;31mTypeError\u001b[0m                                 Traceback (most recent call last)",
      "Input \u001b[0;32mIn [31]\u001b[0m, in \u001b[0;36m<cell line: 52>\u001b[0;34m()\u001b[0m\n\u001b[1;32m     50\u001b[0m \u001b[38;5;66;03m# 绘制直方图\u001b[39;00m\n\u001b[1;32m     51\u001b[0m plt\u001b[38;5;241m.\u001b[39mfigure(figsize\u001b[38;5;241m=\u001b[39m(\u001b[38;5;241m10\u001b[39m, \u001b[38;5;241m6\u001b[39m))\n\u001b[0;32m---> 52\u001b[0m \u001b[43msns\u001b[49m\u001b[38;5;241;43m.\u001b[39;49m\u001b[43mhistplot\u001b[49m\u001b[43m(\u001b[49m\u001b[43mreduced_yield_df\u001b[49m\u001b[43m[\u001b[49m\u001b[38;5;124;43m'\u001b[39;49m\u001b[38;5;124;43mrainfall_bins\u001b[39;49m\u001b[38;5;124;43m'\u001b[39;49m\u001b[43m]\u001b[49m\u001b[43m)\u001b[49m\n\u001b[1;32m     53\u001b[0m plt\u001b[38;5;241m.\u001b[39mtitle(\u001b[38;5;124m'\u001b[39m\u001b[38;5;124mFrequency of rainfall_bins\u001b[39m\u001b[38;5;124m'\u001b[39m)\n\u001b[1;32m     54\u001b[0m plt\u001b[38;5;241m.\u001b[39mxlabel(\u001b[38;5;124m'\u001b[39m\u001b[38;5;124mrainfall_bins\u001b[39m\u001b[38;5;124m'\u001b[39m)\n",
      "File \u001b[0;32m~/.local/lib/python3.10/site-packages/seaborn/distributions.py:1430\u001b[0m, in \u001b[0;36mhistplot\u001b[0;34m(data, x, y, hue, weights, stat, bins, binwidth, binrange, discrete, cumulative, common_bins, common_norm, multiple, element, fill, shrink, kde, kde_kws, line_kws, thresh, pthresh, pmax, cbar, cbar_ax, cbar_kws, palette, hue_order, hue_norm, color, log_scale, legend, ax, **kwargs)\u001b[0m\n\u001b[1;32m   1409\u001b[0m \u001b[38;5;28;01mdef\u001b[39;00m \u001b[38;5;21mhistplot\u001b[39m(\n\u001b[1;32m   1410\u001b[0m     data\u001b[38;5;241m=\u001b[39m\u001b[38;5;28;01mNone\u001b[39;00m, \u001b[38;5;241m*\u001b[39m,\n\u001b[1;32m   1411\u001b[0m     \u001b[38;5;66;03m# Vector variables\u001b[39;00m\n\u001b[0;32m   (...)\u001b[0m\n\u001b[1;32m   1427\u001b[0m     \u001b[38;5;241m*\u001b[39m\u001b[38;5;241m*\u001b[39mkwargs,\n\u001b[1;32m   1428\u001b[0m ):\n\u001b[0;32m-> 1430\u001b[0m     p \u001b[38;5;241m=\u001b[39m \u001b[43m_DistributionPlotter\u001b[49m\u001b[43m(\u001b[49m\n\u001b[1;32m   1431\u001b[0m \u001b[43m        \u001b[49m\u001b[43mdata\u001b[49m\u001b[38;5;241;43m=\u001b[39;49m\u001b[43mdata\u001b[49m\u001b[43m,\u001b[49m\n\u001b[1;32m   1432\u001b[0m \u001b[43m        \u001b[49m\u001b[43mvariables\u001b[49m\u001b[38;5;241;43m=\u001b[39;49m\u001b[43m_DistributionPlotter\u001b[49m\u001b[38;5;241;43m.\u001b[39;49m\u001b[43mget_semantics\u001b[49m\u001b[43m(\u001b[49m\u001b[38;5;28;43mlocals\u001b[39;49m\u001b[43m(\u001b[49m\u001b[43m)\u001b[49m\u001b[43m)\u001b[49m\n\u001b[1;32m   1433\u001b[0m \u001b[43m    \u001b[49m\u001b[43m)\u001b[49m\n\u001b[1;32m   1435\u001b[0m     p\u001b[38;5;241m.\u001b[39mmap_hue(palette\u001b[38;5;241m=\u001b[39mpalette, order\u001b[38;5;241m=\u001b[39mhue_order, norm\u001b[38;5;241m=\u001b[39mhue_norm)\n\u001b[1;32m   1437\u001b[0m     \u001b[38;5;28;01mif\u001b[39;00m ax \u001b[38;5;129;01mis\u001b[39;00m \u001b[38;5;28;01mNone\u001b[39;00m:\n",
      "File \u001b[0;32m~/.local/lib/python3.10/site-packages/seaborn/distributions.py:111\u001b[0m, in \u001b[0;36m_DistributionPlotter.__init__\u001b[0;34m(self, data, variables)\u001b[0m\n\u001b[1;32m    105\u001b[0m \u001b[38;5;28;01mdef\u001b[39;00m \u001b[38;5;21m__init__\u001b[39m(\n\u001b[1;32m    106\u001b[0m     \u001b[38;5;28mself\u001b[39m,\n\u001b[1;32m    107\u001b[0m     data\u001b[38;5;241m=\u001b[39m\u001b[38;5;28;01mNone\u001b[39;00m,\n\u001b[1;32m    108\u001b[0m     variables\u001b[38;5;241m=\u001b[39m{},\n\u001b[1;32m    109\u001b[0m ):\n\u001b[0;32m--> 111\u001b[0m     \u001b[38;5;28;43msuper\u001b[39;49m\u001b[43m(\u001b[49m\u001b[43m)\u001b[49m\u001b[38;5;241;43m.\u001b[39;49m\u001b[38;5;21;43m__init__\u001b[39;49m\u001b[43m(\u001b[49m\u001b[43mdata\u001b[49m\u001b[38;5;241;43m=\u001b[39;49m\u001b[43mdata\u001b[49m\u001b[43m,\u001b[49m\u001b[43m \u001b[49m\u001b[43mvariables\u001b[49m\u001b[38;5;241;43m=\u001b[39;49m\u001b[43mvariables\u001b[49m\u001b[43m)\u001b[49m\n",
      "File \u001b[0;32m~/.local/lib/python3.10/site-packages/seaborn/_core.py:605\u001b[0m, in \u001b[0;36mVectorPlotter.__init__\u001b[0;34m(self, data, variables)\u001b[0m\n\u001b[1;32m    603\u001b[0m \u001b[38;5;28;01mdef\u001b[39;00m \u001b[38;5;21m__init__\u001b[39m(\u001b[38;5;28mself\u001b[39m, data\u001b[38;5;241m=\u001b[39m\u001b[38;5;28;01mNone\u001b[39;00m, variables\u001b[38;5;241m=\u001b[39m{}):\n\u001b[0;32m--> 605\u001b[0m     \u001b[38;5;28;43mself\u001b[39;49m\u001b[38;5;241;43m.\u001b[39;49m\u001b[43massign_variables\u001b[49m\u001b[43m(\u001b[49m\u001b[43mdata\u001b[49m\u001b[43m,\u001b[49m\u001b[43m \u001b[49m\u001b[43mvariables\u001b[49m\u001b[43m)\u001b[49m\n\u001b[1;32m    607\u001b[0m     \u001b[38;5;28;01mfor\u001b[39;00m var, \u001b[38;5;28mcls\u001b[39m \u001b[38;5;129;01min\u001b[39;00m \u001b[38;5;28mself\u001b[39m\u001b[38;5;241m.\u001b[39m_semantic_mappings\u001b[38;5;241m.\u001b[39mitems():\n\u001b[1;32m    608\u001b[0m \n\u001b[1;32m    609\u001b[0m         \u001b[38;5;66;03m# Create the mapping function\u001b[39;00m\n\u001b[1;32m    610\u001b[0m         map_func \u001b[38;5;241m=\u001b[39m partial(\u001b[38;5;28mcls\u001b[39m\u001b[38;5;241m.\u001b[39mmap, plotter\u001b[38;5;241m=\u001b[39m\u001b[38;5;28mself\u001b[39m)\n",
      "File \u001b[0;32m~/.local/lib/python3.10/site-packages/seaborn/_core.py:663\u001b[0m, in \u001b[0;36mVectorPlotter.assign_variables\u001b[0;34m(self, data, variables)\u001b[0m\n\u001b[1;32m    661\u001b[0m \u001b[38;5;28;01mif\u001b[39;00m x \u001b[38;5;129;01mis\u001b[39;00m \u001b[38;5;28;01mNone\u001b[39;00m \u001b[38;5;129;01mand\u001b[39;00m y \u001b[38;5;129;01mis\u001b[39;00m \u001b[38;5;28;01mNone\u001b[39;00m:\n\u001b[1;32m    662\u001b[0m     \u001b[38;5;28mself\u001b[39m\u001b[38;5;241m.\u001b[39minput_format \u001b[38;5;241m=\u001b[39m \u001b[38;5;124m\"\u001b[39m\u001b[38;5;124mwide\u001b[39m\u001b[38;5;124m\"\u001b[39m\n\u001b[0;32m--> 663\u001b[0m     plot_data, variables \u001b[38;5;241m=\u001b[39m \u001b[38;5;28;43mself\u001b[39;49m\u001b[38;5;241;43m.\u001b[39;49m\u001b[43m_assign_variables_wideform\u001b[49m\u001b[43m(\u001b[49m\n\u001b[1;32m    664\u001b[0m \u001b[43m        \u001b[49m\u001b[43mdata\u001b[49m\u001b[43m,\u001b[49m\u001b[43m \u001b[49m\u001b[38;5;241;43m*\u001b[39;49m\u001b[38;5;241;43m*\u001b[39;49m\u001b[43mvariables\u001b[49m\u001b[43m,\u001b[49m\n\u001b[1;32m    665\u001b[0m \u001b[43m    \u001b[49m\u001b[43m)\u001b[49m\n\u001b[1;32m    666\u001b[0m \u001b[38;5;28;01melse\u001b[39;00m:\n\u001b[1;32m    667\u001b[0m     \u001b[38;5;28mself\u001b[39m\u001b[38;5;241m.\u001b[39minput_format \u001b[38;5;241m=\u001b[39m \u001b[38;5;124m\"\u001b[39m\u001b[38;5;124mlong\u001b[39m\u001b[38;5;124m\"\u001b[39m\n",
      "File \u001b[0;32m~/.local/lib/python3.10/site-packages/seaborn/_core.py:715\u001b[0m, in \u001b[0;36mVectorPlotter._assign_variables_wideform\u001b[0;34m(self, data, **kwargs)\u001b[0m\n\u001b[1;32m    712\u001b[0m     \u001b[38;5;28;01mraise\u001b[39;00m \u001b[38;5;167;01mValueError\u001b[39;00m(err)\n\u001b[1;32m    714\u001b[0m \u001b[38;5;66;03m# Determine if the data object actually has any data in it\u001b[39;00m\n\u001b[0;32m--> 715\u001b[0m empty \u001b[38;5;241m=\u001b[39m data \u001b[38;5;129;01mis\u001b[39;00m \u001b[38;5;28;01mNone\u001b[39;00m \u001b[38;5;129;01mor\u001b[39;00m \u001b[38;5;129;01mnot\u001b[39;00m \u001b[38;5;28;43mlen\u001b[39;49m\u001b[43m(\u001b[49m\u001b[43mdata\u001b[49m\u001b[43m)\u001b[49m\n\u001b[1;32m    717\u001b[0m \u001b[38;5;66;03m# Then, determine if we have \"flat\" data (a single vector)\u001b[39;00m\n\u001b[1;32m    718\u001b[0m \u001b[38;5;28;01mif\u001b[39;00m \u001b[38;5;28misinstance\u001b[39m(data, \u001b[38;5;28mdict\u001b[39m):\n",
      "\u001b[0;31mTypeError\u001b[0m: object of type 'Column' has no len()"
     ]
    },
    {
     "data": {
      "text/plain": [
       "<Figure size 720x432 with 0 Axes>"
      ]
     },
     "metadata": {},
     "output_type": "display_data"
    }
   ],
   "source": [
    "\n",
    "import matplotlib.pyplot as plt\n",
    "import seaborn as sns\n",
    "\n",
    "\n",
    "# yield_df\n",
    "Area = np.array(reduced_yield_df.select(col('Area')).rdd.flatMap(lambda x: x).collect())\n",
    "average_rain_fall_mm_per_year = np.array(reduced_yield_df.select(col('average_rain_fall_mm_per_year')).rdd.flatMap(lambda x: x).collect())\n",
    "pesticides_tonnes = np.array(reduced_yield_df.select(col('pesticides_tonnes')).rdd.flatMap(lambda x: x).collect())\n",
    "avg_temp = np.array(reduced_yield_df.select(col('avg_temp')).rdd.flatMap(lambda x: x).collect())\n",
    "hg_ha_yield = np.array(reduced_yield_df.select(col('hg/ha_yield')).rdd.flatMap(lambda x: x).collect())\n",
    "\n",
    "\n",
    "# 绘制直方图\n",
    "plt.figure(figsize=(10, 6))\n",
    "sns.histplot(average_rain_fall_mm_per_year, kde=True)\n",
    "plt.title('Frequency of average_rain_fall_mm_per_year')\n",
    "plt.xlabel('average_rain_fall_mm_per_year')\n",
    "plt.ylabel('Frequency')\n",
    "plt.show()\n",
    "\n",
    "\n",
    "from pyspark.sql import SparkSession\n",
    "from pyspark.sql.functions import col, when\n",
    "\n",
    "\n",
    "\n",
    "# 定义 bins 和 labels\n",
    "bins = [0, 200, 400, 600, 800, 1000, 1200, float('inf')]\n",
    "labels = [250, 750, 1250, 1750, 2250, 2750, 3000, float('inf') ]\n",
    "\n",
    "# 使用when函数进行分箱\n",
    "reduced_yield_df = reduced_yield_df.withColumn(\n",
    "    \"rainfall_bins\",\n",
    "    when((col(\"average_rain_fall_mm_per_year\") > bins[0]) & (col(\"average_rain_fall_mm_per_year\") <= bins[1]), labels[0])\n",
    "    .when((col(\"average_rain_fall_mm_per_year\") > bins[1]) & (col(\"average_rain_fall_mm_per_year\") <= bins[2]), labels[1])\n",
    "    .when((col(\"average_rain_fall_mm_per_year\") > bins[2]) & (col(\"average_rain_fall_mm_per_year\") <= bins[3]), labels[2])\n",
    "    .when((col(\"average_rain_fall_mm_per_year\") > bins[3]) & (col(\"average_rain_fall_mm_per_year\") <= bins[4]), labels[3])\n",
    "    .when((col(\"average_rain_fall_mm_per_year\") > bins[4]) & (col(\"average_rain_fall_mm_per_year\") <= bins[5]), labels[4])\n",
    "    .when((col(\"average_rain_fall_mm_per_year\") > bins[5]) & (col(\"average_rain_fall_mm_per_year\") <= bins[6]), labels[5])\n",
    "    .otherwise(labels[6])\n",
    ")\n",
    "\n",
    "# 从DataFrame中移除指定列\n",
    "reduced_yield_df = reduced_yield_df.drop(\"average_rain_fall_mm_per_year\")\n",
    "\n",
    "# 显示分箱后的数据\n",
    "reduced_yield_df.show(5)\n",
    "\n"
   ]
  },
  {
   "cell_type": "code",
   "execution_count": 32,
   "id": "778ab247",
   "metadata": {},
   "outputs": [
    {
     "data": {
      "image/png": "[encoded data removed]",
      "text/plain": [
       "<Figure size 720x432 with 1 Axes>"
      ]
     },
     "metadata": {
      "needs_background": "light"
     },
     "output_type": "display_data"
    }
   ],
   "source": [
    "# 将 Spark DataFrame 转换为 RDD，然后收集到 Python 列表\n",
    "rainfall_bins = reduced_yield_df.select(\"rainfall_bins\").rdd.flatMap(lambda x: x).collect()\n",
    "\n",
    "\n",
    "# 绘制直方图\n",
    "plt.figure(figsize=(10, 6))\n",
    "sns.histplot(rainfall_bins)\n",
    "plt.title('Frequency of rainfall_bins')\n",
    "plt.xlabel('rainfall_bins')\n",
    "plt.ylabel('Frequency')\n",
    "plt.show()\n",
    "\n"
   ]
  },
  {
   "cell_type": "code",
   "execution_count": null,
   "id": "8063a16d",
   "metadata": {},
   "outputs": [],
   "source": []
  }
 ],
 "metadata": {
  "kernelspec": {
   "display_name": "Python 3 (ipykernel)",
   "language": "python",
   "name": "python3"
  },
  "language_info": {
   "codemirror_mode": {
    "name": "ipython",
    "version": 3
   },
   "file_extension": ".py",
   "mimetype": "text/x-python",
   "name": "python",
   "nbconvert_exporter": "python",
   "pygments_lexer": "ipython3",
   "version": "3.10.4"
  }
 },
 "nbformat": 4,
 "nbformat_minor": 5
}
