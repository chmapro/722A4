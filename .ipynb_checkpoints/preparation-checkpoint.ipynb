{
 "cells": [
  {
   "cell_type": "code",
   "execution_count": 9,
   "id": "b589aa0d",
   "metadata": {},
   "outputs": [
    {
     "name": "stdout",
     "output_type": "stream",
     "text": [
      "+-------+----+-----+\n",
      "|   Area|Year|Value|\n",
      "+-------+----+-----+\n",
      "|Albania|1990|121.0|\n",
      "|Albania|1991|121.0|\n",
      "|Albania|1992|121.0|\n",
      "|Albania|1993|121.0|\n",
      "|Albania|1994|201.0|\n",
      "+-------+----+-----+\n",
      "only showing top 5 rows\n",
      "\n"
     ]
    }
   ],
   "source": [
    "from pyspark.ml.feature import VectorAssembler\n",
    "from pyspark.sql import SparkSession\n",
    "from pyspark.sql.functions import col\n",
    "import matplotlib.pyplot as plt\n",
    "import seaborn as sns\n",
    "import numpy as np\n",
    "\n",
    "# 初始化SparkSession\n",
    "from pyspark.sql.types import IntegerType, FloatType, DoubleType\n",
    "from webencodings import labels\n",
    "spark = SparkSession.builder.appName(\"PesticidesAnalysis\").getOrCreate()\n",
    "\n",
    "pesticides_path = \"./data/pesticides.csv\"\n",
    "pesticides = spark.read.csv(pesticides_path, header=True, inferSchema=True)\n",
    "\n",
    "rainfall_path = \"./data/rainfall.csv\"\n",
    "rainfall = spark.read.csv(rainfall_path, header=True, inferSchema=True)\n",
    "\n",
    "temp_path = \"./data/temp.csv\"\n",
    "temp = spark.read.csv(temp_path, header=True, inferSchema=True)\n",
    "\n",
    "yield_path = \"./data/yield.csv\"\n",
    "yields = spark.read.csv(yield_path, header=True, inferSchema=True)\n",
    "\n",
    "\n",
    "# 选择特定的列\n",
    "selected_pesticides = pesticides.select('Area', 'Year', 'Value')\n",
    "\n",
    "# 显示DataFrame的前几行\n",
    "selected_pesticides.show(5)\n"
   ]
  },
  {
   "cell_type": "code",
   "execution_count": 10,
   "id": "aa93f54f",
   "metadata": {},
   "outputs": [
    {
     "name": "stdout",
     "output_type": "stream",
     "text": [
      "+-----------+----+-----------------------------+\n",
      "|       Area|Year|average_rain_fall_mm_per_year|\n",
      "+-----------+----+-----------------------------+\n",
      "|Afghanistan|1985|                          327|\n",
      "|Afghanistan|1986|                          327|\n",
      "|Afghanistan|1987|                          327|\n",
      "|Afghanistan|1989|                          327|\n",
      "|Afghanistan|1990|                          327|\n",
      "+-----------+----+-----------------------------+\n",
      "only showing top 5 rows\n",
      "\n"
     ]
    }
   ],
   "source": [
    "\n",
    "# 选择特定的列\n",
    "selected_rainfall = rainfall.select(' Area', 'Year', 'average_rain_fall_mm_per_year')\n",
    "\n",
    "# 显示DataFrame的前几行\n",
    "selected_rainfall.show(5)# 选择特定的列\n",
    "\n"
   ]
  },
  {
   "cell_type": "code",
   "execution_count": 11,
   "id": "57012fbf",
   "metadata": {},
   "outputs": [
    {
     "name": "stdout",
     "output_type": "stream",
     "text": [
      "+----+-------------+--------+\n",
      "|year|      country|avg_temp|\n",
      "+----+-------------+--------+\n",
      "|1849|Côte D'Ivoire|   25.58|\n",
      "|1850|Côte D'Ivoire|   25.52|\n",
      "|1851|Côte D'Ivoire|   25.67|\n",
      "|1852|Côte D'Ivoire|    null|\n",
      "|1853|Côte D'Ivoire|    null|\n",
      "+----+-------------+--------+\n",
      "only showing top 5 rows\n",
      "\n"
     ]
    }
   ],
   "source": [
    "\n",
    "selected_temp = temp.select('year', 'country', 'avg_temp')\n",
    "\n",
    "# 显示DataFrame的前几行\n",
    "selected_temp.show(5)# 选择特定的列\n"
   ]
  },
  {
   "cell_type": "code",
   "execution_count": 14,
   "id": "a1537377",
   "metadata": {},
   "outputs": [
    {
     "name": "stdout",
     "output_type": "stream",
     "text": [
      "+-----------+-----+----+-----+\n",
      "|       Area| Item|Year|Value|\n",
      "+-----------+-----+----+-----+\n",
      "|Afghanistan|Maize|1961|14000|\n",
      "|Afghanistan|Maize|1962|14000|\n",
      "|Afghanistan|Maize|1963|14260|\n",
      "|Afghanistan|Maize|1964|14257|\n",
      "|Afghanistan|Maize|1965|14400|\n",
      "+-----------+-----+----+-----+\n",
      "only showing top 5 rows\n",
      "\n"
     ]
    }
   ],
   "source": [
    "\n",
    "selected_yields = yields.select('Area', 'Item', 'Year', 'Value')\n",
    "\n",
    "# 显示DataFrame的前几行\n",
    "selected_yields.show(5)"
   ]
  },
  {
   "cell_type": "code",
   "execution_count": 15,
   "id": "b645dc15",
   "metadata": {},
   "outputs": [
    {
     "name": "stdout",
     "output_type": "stream",
     "text": [
      "+-------+----+-----+\n",
      "|   Area|Year|Value|\n",
      "+-------+----+-----+\n",
      "|Albania|1990|121.0|\n",
      "|Albania|1991|121.0|\n",
      "|Albania|1992|121.0|\n",
      "|Albania|1993|121.0|\n",
      "|Albania|1994|201.0|\n",
      "+-------+----+-----+\n",
      "only showing top 5 rows\n",
      "\n",
      "None\n",
      "+-------+----+-----+\n",
      "|   Area|Year|Value|\n",
      "+-------+----+-----+\n",
      "|Albania|1990|121.0|\n",
      "|Albania|1991|121.0|\n",
      "|Albania|1992|121.0|\n",
      "|Albania|1993|121.0|\n",
      "|Albania|1994|201.0|\n",
      "+-------+----+-----+\n",
      "only showing top 5 rows\n",
      "\n",
      "None\n",
      "+----+-------------+--------+\n",
      "|year|      country|avg_temp|\n",
      "+----+-------------+--------+\n",
      "|1849|Côte D'Ivoire|   25.58|\n",
      "|1850|Côte D'Ivoire|   25.52|\n",
      "|1851|Côte D'Ivoire|   25.67|\n",
      "|1852|Côte D'Ivoire|    null|\n",
      "|1853|Côte D'Ivoire|    null|\n",
      "+----+-------------+--------+\n",
      "only showing top 5 rows\n",
      "\n",
      "None\n",
      "+----+-------------+--------+\n",
      "|year|      country|avg_temp|\n",
      "+----+-------------+--------+\n",
      "|1849|Côte D'Ivoire|   25.58|\n",
      "|1850|Côte D'Ivoire|   25.52|\n",
      "|1851|Côte D'Ivoire|   25.67|\n",
      "|1856|Côte D'Ivoire|   26.28|\n",
      "|1857|Côte D'Ivoire|   25.17|\n",
      "+----+-------------+--------+\n",
      "only showing top 5 rows\n",
      "\n",
      "None\n",
      "+-----------+-----+----+-----+\n",
      "|       Area| Item|Year|Value|\n",
      "+-----------+-----+----+-----+\n",
      "|Afghanistan|Maize|1961|14000|\n",
      "|Afghanistan|Maize|1962|14000|\n",
      "|Afghanistan|Maize|1963|14260|\n",
      "|Afghanistan|Maize|1964|14257|\n",
      "|Afghanistan|Maize|1965|14400|\n",
      "+-----------+-----+----+-----+\n",
      "only showing top 5 rows\n",
      "\n",
      "None\n",
      "+-----------+-----+----+-----+\n",
      "|       Area| Item|Year|Value|\n",
      "+-----------+-----+----+-----+\n",
      "|Afghanistan|Maize|1961|14000|\n",
      "|Afghanistan|Maize|1962|14000|\n",
      "|Afghanistan|Maize|1963|14260|\n",
      "|Afghanistan|Maize|1964|14257|\n",
      "|Afghanistan|Maize|1965|14400|\n",
      "+-----------+-----+----+-----+\n",
      "only showing top 5 rows\n",
      "\n",
      "None\n",
      "+-----------+----+-----------------------------+\n",
      "|       Area|Year|average_rain_fall_mm_per_year|\n",
      "+-----------+----+-----------------------------+\n",
      "|Afghanistan|1985|                          327|\n",
      "|Afghanistan|1986|                          327|\n",
      "|Afghanistan|1987|                          327|\n",
      "|Afghanistan|1989|                          327|\n",
      "|Afghanistan|1990|                          327|\n",
      "+-----------+----+-----------------------------+\n",
      "only showing top 5 rows\n",
      "\n",
      "None\n",
      "+-----------+----+-----------------------------+\n",
      "|       Area|Year|average_rain_fall_mm_per_year|\n",
      "+-----------+----+-----------------------------+\n",
      "|Afghanistan|1985|                          327|\n",
      "|Afghanistan|1986|                          327|\n",
      "|Afghanistan|1987|                          327|\n",
      "|Afghanistan|1989|                          327|\n",
      "|Afghanistan|1990|                          327|\n",
      "+-----------+----+-----------------------------+\n",
      "only showing top 5 rows\n",
      "\n",
      "None\n"
     ]
    }
   ],
   "source": [
    "def clean_data(df):\n",
    "    # 1. 删除空值\n",
    "    df = df.dropna()\n",
    "\n",
    "    # 2. 使用IQR去除离群值\n",
    "    for column in [col_name for col_name, dtype in df.dtypes if dtype in ['double', 'int']]:  # 只考虑数值型列\n",
    "        # 计算四分位数和IQR\n",
    "        quantiles = df.approxQuantile(column, [0.25, 0.75], 0.05)\n",
    "        Q1, Q3 = quantiles[0], quantiles[1]\n",
    "        IQR = Q3 - Q1\n",
    "        lower_bound = Q1 - 1.5 * IQR\n",
    "        upper_bound = Q3 + 1.5 * IQR\n",
    "\n",
    "        # 过滤离群值\n",
    "        df = df.filter((col(column) >= lower_bound) & (col(column) <= upper_bound))\n",
    "\n",
    "    return df\n",
    "\n",
    "\n",
    "# 调用函数\n",
    "print(selected_pesticides.show(5))\n",
    "cleaned_pesticides = clean_data(selected_pesticides)\n",
    "\n",
    "# 打印结果查看\n",
    "print(cleaned_pesticides.show(5))\n",
    "\n",
    "\n",
    "# 调用函数\n",
    "print(selected_temp.show(5))\n",
    "cleaned_temp = clean_data(selected_temp)\n",
    "\n",
    "# 打印结果查看\n",
    "print(cleaned_temp.show(5))\n",
    "\n",
    "\n",
    "\n",
    "# 调用函数\n",
    "print(selected_yields.show(5))\n",
    "cleaned_yields = clean_data(selected_yields)\n",
    "\n",
    "# 打印结果查看\n",
    "print(cleaned_yields.show(5))\n",
    "\n",
    "\n",
    "\n",
    "# 调用函数\n",
    "print(selected_rainfall.show(5))\n",
    "cleaned_rainfall = clean_data(selected_rainfall)\n",
    "\n",
    "# 打印结果查看\n",
    "print(cleaned_rainfall.show(5))"
   ]
  },
  {
   "cell_type": "code",
   "execution_count": 16,
   "id": "91e1add1",
   "metadata": {},
   "outputs": [
    {
     "name": "stderr",
     "output_type": "stream",
     "text": [
      "[Stage 221:>                                                        (0 + 2) / 2]\r"
     ]
    },
    {
     "name": "stdout",
     "output_type": "stream",
     "text": [
      "+-----------+----+-----------------+--------+----+---------------+----------------------+\n",
      "|       Area|Year|pesticides_tonnes|avg_temp|Item|hg_per_ha_yield|avg_annual_rainfall_mm|\n",
      "+-----------+----+-----------------+--------+----+---------------+----------------------+\n",
      "|Afghanistan|1833|             null|   13.91|null|           null|                  null|\n",
      "|Afghanistan|1834|             null|   13.91|null|           null|                  null|\n",
      "|Afghanistan|1837|             null|   15.47|null|           null|                  null|\n",
      "|Afghanistan|1838|             null|    18.5|null|           null|                  null|\n",
      "|Afghanistan|1841|             null|   14.17|null|           null|                  null|\n",
      "+-----------+----+-----------------+--------+----+---------------+----------------------+\n",
      "only showing top 5 rows\n",
      "\n",
      "None\n"
     ]
    },
    {
     "name": "stderr",
     "output_type": "stream",
     "text": [
      "\r",
      "                                                                                \r"
     ]
    }
   ],
   "source": [
    "\n",
    "def merge_datasets(pesticides, temp, yields, rainfall):\n",
    "    pesticides = pesticides.withColumnRenamed('Value', 'pesticides_tonnes')\n",
    "    temp = temp.withColumnRenamed('country', 'Area').withColumnRenamed('year', 'Year')\n",
    "    yields = yields.withColumnRenamed('Value', 'hg_per_ha_yield')\n",
    "    rainfall = rainfall.withColumnRenamed(' Area', 'Area').withColumnRenamed('average_rain_fall_mm_per_year', 'avg_annual_rainfall_mm')\n",
    "\n",
    "    merged = pesticides.join(temp, on=['Area', 'Year'], how='outer')\n",
    "    merged = merged.join(yields, on=['Area', 'Year'], how='outer')\n",
    "    merged = merged.join(rainfall, on=['Area', 'Year'], how='outer')\n",
    "\n",
    "    return merged\n",
    "\n",
    "# 调用函数合并数据集\n",
    "merged_data = merge_datasets(cleaned_pesticides, cleaned_temp, cleaned_yields, cleaned_rainfall)\n",
    "\n",
    "# 显示合并后的数据\n",
    "print(merged_data.show(5))"
   ]
  },
  {
   "cell_type": "code",
   "execution_count": 17,
   "id": "08730ac0",
   "metadata": {},
   "outputs": [
    {
     "name": "stdout",
     "output_type": "stream",
     "text": [
      "root\n",
      " |-- _c0: integer (nullable = true)\n",
      " |-- Area: string (nullable = true)\n",
      " |-- Item: string (nullable = true)\n",
      " |-- Year: integer (nullable = true)\n",
      " |-- hg/ha_yield: integer (nullable = true)\n",
      " |-- average_rain_fall_mm_per_year: double (nullable = true)\n",
      " |-- pesticides_tonnes: double (nullable = true)\n",
      " |-- avg_temp: double (nullable = true)\n",
      "\n",
      "None\n"
     ]
    },
    {
     "name": "stderr",
     "output_type": "stream",
     "text": [
      "24/05/19 12:08:34 WARN CSVHeaderChecker: CSV header does not conform to the schema.\n",
      " Header: , Area, Item, Year, hg/ha_yield, average_rain_fall_mm_per_year, pesticides_tonnes, avg_temp\n",
      " Schema: _c0, Area, Item, Year, hg/ha_yield, average_rain_fall_mm_per_year, pesticides_tonnes, avg_temp\n",
      "Expected: _c0 but found: \n",
      "CSV file: file:///home/ubuntu/722A4/data/yield_df.csv\n",
      "                                                                                \r"
     ]
    },
    {
     "name": "stdout",
     "output_type": "stream",
     "text": [
      "+-------+----------------+--------+-------+------------------+-----------------+-----------------------------+------------------+------------------+\n",
      "|summary|             _c0|    Area|   Item|              Year|      hg/ha_yield|average_rain_fall_mm_per_year| pesticides_tonnes|          avg_temp|\n",
      "+-------+----------------+--------+-------+------------------+-----------------+-----------------------------+------------------+------------------+\n",
      "|  count|           28242|   28242|  28242|             28242|            28242|                        28242|             28242|             28242|\n",
      "|   mean|         14120.5|    null|   null|2001.5442957297641|77053.33209404434|            1149.055980454642|37076.909343529136|20.542626584519553|\n",
      "| stddev|8152.90748751634|    null|   null|7.0519052853951205|84956.61289666739|            709.8121499492227| 59958.78466505776| 6.312050836049751|\n",
      "|    min|               0| Albania|Cassava|              1990|               50|                         51.0|              0.04|               1.3|\n",
      "|    max|           28241|Zimbabwe|   Yams|              2013|           501412|                       3240.0|          367778.0|             30.65|\n",
      "+-------+----------------+--------+-------+------------------+-----------------+-----------------------------+------------------+------------------+\n",
      "\n",
      "None\n",
      "DataFrame shape: (28242, 8)\n",
      "+---+----+----+----+-----------+-----------------------------+-----------------+--------+\n",
      "|_c0|Area|Item|Year|hg/ha_yield|average_rain_fall_mm_per_year|pesticides_tonnes|avg_temp|\n",
      "+---+----+----+----+-----------+-----------------------------+-----------------+--------+\n",
      "|0.0| 0.0| 0.0| 0.0|        0.0|                          0.0|              0.0|     0.0|\n",
      "+---+----+----+----+-----------+-----------------------------+-----------------+--------+\n",
      "\n",
      "None\n"
     ]
    },
    {
     "name": "stderr",
     "output_type": "stream",
     "text": [
      "24/05/19 12:08:35 WARN CSVHeaderChecker: CSV header does not conform to the schema.\n",
      " Header: , Area, Item, Year, hg/ha_yield, average_rain_fall_mm_per_year, pesticides_tonnes, avg_temp\n",
      " Schema: _c0, Area, Item, Year, hg/ha_yield, average_rain_fall_mm_per_year, pesticides_tonnes, avg_temp\n",
      "Expected: _c0 but found: \n",
      "CSV file: file:///home/ubuntu/722A4/data/yield_df.csv\n"
     ]
    }
   ],
   "source": [
    "\n",
    "yield_df_path = \"./data/yield_df.csv\"\n",
    "yield_df = spark.read.csv(yield_df_path, header=True, inferSchema=True)\n",
    "describes(yield_df)"
   ]
  },
  {
   "cell_type": "code",
   "execution_count": null,
   "id": "564c7f32",
   "metadata": {},
   "outputs": [],
   "source": []
  }
 ],
 "metadata": {
  "kernelspec": {
   "display_name": "Python 3 (ipykernel)",
   "language": "python",
   "name": "python3"
  },
  "language_info": {
   "codemirror_mode": {
    "name": "ipython",
    "version": 3
   },
   "file_extension": ".py",
   "mimetype": "text/x-python",
   "name": "python",
   "nbconvert_exporter": "python",
   "pygments_lexer": "ipython3",
   "version": "3.10.4"
  }
 },
 "nbformat": 4,
 "nbformat_minor": 5
}
